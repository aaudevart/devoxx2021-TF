{
 "cells": [
  {
   "cell_type": "markdown",
   "metadata": {
    "id": "1993MCkDDlg_"
   },
   "source": [
    "[![Open In Colab](https://colab.research.google.com/assets/colab-badge.svg)](https://colab.research.google.com/github/aaudevart/devoxx2021-TF/blob/main/Demo_CNN/Demo_Conv_Pooling.ipynb)"
   ]
  },
  {
   "cell_type": "markdown",
   "metadata": {
    "id": "tJTHvE8Qe5nM"
   },
   "source": [
    "# Filtres de convolutions & Pooling\n",
    "\n",
    "\n",
    "\n",
    "Explorons le fonctionnement des filtres de convolution en créant une convolution de base sur une image en noir et blanc.\n",
    "Tout d'abord, nous pouvons charger une image de scipy."
   ]
  },
  {
   "cell_type": "code",
   "execution_count": null,
   "metadata": {
    "id": "DZ5OXYiolCUi"
   },
   "outputs": [],
   "source": [
    "import cv2\n",
    "import numpy as np\n",
    "from scipy import misc\n",
    "img = misc.face(gray=True)\n",
    "\n",
    "scale_percent = 60 # percent of original size\n",
    "width = int(img.shape[1] * scale_percent / 100)\n",
    "height = int(img.shape[0] * scale_percent / 100)\n",
    "dim = (width, height)\n",
    "\n",
    "i = misc.ascent()"
   ]
  },
  {
   "cell_type": "markdown",
   "metadata": {
    "id": "SRIzxjWWfJjk"
   },
   "source": [
    "Utilisons la bibliothèque pyplot pour afficher l'image."
   ]
  },
  {
   "cell_type": "code",
   "execution_count": null,
   "metadata": {
    "colab": {
     "base_uri": "https://localhost:8080/",
     "height": 248
    },
    "executionInfo": {
     "elapsed": 661,
     "status": "ok",
     "timestamp": 1631616068160,
     "user": {
      "displayName": "Alexia Audevart",
      "photoUrl": "https://lh3.googleusercontent.com/a-/AOh14GihVsxv1F8Oh6bpDjBYr6y-eMXpwTKADtQmAd2-aQ=s64",
      "userId": "09723170522858788865"
     },
     "user_tz": -120
    },
    "id": "R4p0cfWcfIvi",
    "outputId": "b4ca6273-eda0-4114-be1f-aae057490c43"
   },
   "outputs": [],
   "source": [
    "import matplotlib.pyplot as plt\n",
    "plt.grid(False)\n",
    "plt.gray()\n",
    "plt.axis('off')\n",
    "plt.imshow(i)\n",
    "plt.show()"
   ]
  },
  {
   "cell_type": "markdown",
   "metadata": {
    "id": "C1mhZ_ZTfPWH"
   },
   "source": [
    "L'image est stockée dans un tableau numpy, nous pouvons donc créer l'image transformée en copiant simplement ce tableau. Récupérons également les dimensions de l'image afin de pouvoir boucler dessus plus tard."
   ]
  },
  {
   "cell_type": "code",
   "execution_count": null,
   "metadata": {
    "id": "o5pxGq1SmJMD"
   },
   "outputs": [],
   "source": [
    "i_transformed = np.copy(i)\n",
    "size_x = i_transformed.shape[0]\n",
    "size_y = i_transformed.shape[1]"
   ]
  },
  {
   "cell_type": "markdown",
   "metadata": {
    "id": "Y7PwNkiXfddd"
   },
   "source": [
    "#◢  Filtres de convolution\n",
    "\n",
    "Nous pouvons maintenant créer un filtre sous la forme d'un tableau 3x3."
   ]
  },
  {
   "cell_type": "code",
   "execution_count": null,
   "metadata": {
    "id": "sN3imZannN5J"
   },
   "outputs": [],
   "source": [
    "# Détection des bords\n",
    "filter = [ [0, 1, 0], [1, -4, 1], [0, 1, 0]]\n",
    "weight  = 1"
   ]
  },
  {
   "cell_type": "markdown",
   "metadata": {
    "id": "JQmm_iBufmCz"
   },
   "source": [
    "Maintenant, nous allons créer une convolution. Nous allons itérer sur l'image, en laissant une marge de 1 pixel, et multiplier chacun des voisins du pixel actuel par la valeur définie dans le filtre.\n",
    "\n",
    "C'est à dire que le voisin du pixel actuel au-dessus de lui à gauche sera multiplié par l'élément en haut à gauche dans le filtre, etc. etc. Nous allons ensuite multiplier le résultat par le poids, puis nous assurer que le résultat est compris entre 0 et 255.\n",
    "\n",
    "Enfin, nous chargerons la nouvelle valeur dans l'image transformée."
   ]
  },
  {
   "cell_type": "code",
   "execution_count": null,
   "metadata": {
    "id": "299uU2jAr90h"
   },
   "outputs": [],
   "source": [
    "for x in range(1,size_x-1):\n",
    "    for y in range(1,size_y-1):\n",
    "        convolution = 0.0\n",
    "        convolution = convolution + (i[x - 1, y-1] * filter[0][0])\n",
    "        convolution = convolution + (i[x, y-1] * filter[0][1])\n",
    "        convolution = convolution + (i[x + 1, y-1] * filter[0][2])\n",
    "        convolution = convolution + (i[x-1, y] * filter[1][0])\n",
    "        convolution = convolution + (i[x, y] * filter[1][1])\n",
    "        convolution = convolution + (i[x+1, y] * filter[1][2])\n",
    "        convolution = convolution + (i[x-1, y+1] * filter[2][0])\n",
    "        convolution = convolution + (i[x, y+1] * filter[2][1])\n",
    "        convolution = convolution + (i[x+1, y+1] * filter[2][2])\n",
    "        convolution = convolution * weight\n",
    "        if(convolution<0):\n",
    "            convolution=0\n",
    "        if(convolution>255):\n",
    "            convolution=255\n",
    "        i_transformed[x, y] = convolution"
   ]
  },
  {
   "cell_type": "markdown",
   "metadata": {
    "id": "6XA--vgvgDEQ"
   },
   "source": [
    "Nous pouvons afficher l'image résultante de la convolution !"
   ]
  },
  {
   "cell_type": "code",
   "execution_count": null,
   "metadata": {
    "colab": {
     "base_uri": "https://localhost:8080/",
     "height": 269
    },
    "executionInfo": {
     "elapsed": 9,
     "status": "ok",
     "timestamp": 1631616075570,
     "user": {
      "displayName": "Alexia Audevart",
      "photoUrl": "https://lh3.googleusercontent.com/a-/AOh14GihVsxv1F8Oh6bpDjBYr6y-eMXpwTKADtQmAd2-aQ=s64",
      "userId": "09723170522858788865"
     },
     "user_tz": -120
    },
    "id": "7oPhUPNhuGWC",
    "outputId": "be687d4b-eeb2-490b-a740-0de49c0fad7e"
   },
   "outputs": [],
   "source": [
    "# Plot the image.\n",
    "plt.gray()\n",
    "plt.grid(False)\n",
    "plt.imshow(i_transformed)\n",
    "plt.show()   "
   ]
  },
  {
   "cell_type": "markdown",
   "metadata": {
    "id": "xF0FPplsgHNh"
   },
   "source": [
    "\n",
    "#◢  Pooling\n",
    "\n",
    "Ce code va effectuer un pooling de (2, 2). L'idée ici est d'itérer sur l'image, et de regarder le pixel et ses voisins immédiats à droite, en dessous, et à droite en dessous. On ne garde que le plus grand d'entre eux pour créer la nouvelle image. Ainsi, la nouvelle image fera 1/4 de la taille de l'ancienne - les dimensions sur X et Y étant divisées par deux par ce processus. Vous verrez que les caractéristiques sont maintenues malgré cette compression !"
   ]
  },
  {
   "cell_type": "code",
   "execution_count": null,
   "metadata": {
    "colab": {
     "base_uri": "https://localhost:8080/",
     "height": 269
    },
    "executionInfo": {
     "elapsed": 676,
     "status": "ok",
     "timestamp": 1631616079702,
     "user": {
      "displayName": "Alexia Audevart",
      "photoUrl": "https://lh3.googleusercontent.com/a-/AOh14GihVsxv1F8Oh6bpDjBYr6y-eMXpwTKADtQmAd2-aQ=s64",
      "userId": "09723170522858788865"
     },
     "user_tz": -120
    },
    "id": "kDHjf-ehaBqm",
    "outputId": "23756b93-4b73-4a90-c291-99412ebb43cd"
   },
   "outputs": [],
   "source": [
    "new_x = int(size_x/2)\n",
    "new_y = int(size_y/2)\n",
    "newImage = np.zeros((new_x, new_y))\n",
    "for x in range(0, size_x, 2):\n",
    "  for y in range(0, size_y, 2):\n",
    "    pixels = []\n",
    "    pixels.append(i_transformed[x, y])\n",
    "    pixels.append(i_transformed[x+1, y])\n",
    "    pixels.append(i_transformed[x, y+1])\n",
    "    pixels.append(i_transformed[x+1, y+1])\n",
    "    newImage[int(x/2),int(y/2)] = max(pixels)\n",
    "\n",
    "# Plot the image.\n",
    "plt.gray()\n",
    "plt.grid(False)\n",
    "plt.imshow(newImage)\n",
    "plt.show()      \n",
    "    \n",
    "    "
   ]
  },
  {
   "cell_type": "code",
   "execution_count": null,
   "metadata": {
    "id": "w-HJN2ng5rL_"
   },
   "outputs": [],
   "source": []
  }
 ],
 "metadata": {
  "colab": {
   "collapsed_sections": [],
   "name": "Demo_Conv_Pooling.ipynb",
   "provenance": [],
   "toc_visible": true
  },
  "kernelspec": {
   "display_name": "Python 3",
   "language": "python",
   "name": "python3"
  },
  "language_info": {
   "codemirror_mode": {
    "name": "ipython",
    "version": 3
   },
   "file_extension": ".py",
   "mimetype": "text/x-python",
   "name": "python",
   "nbconvert_exporter": "python",
   "pygments_lexer": "ipython3",
   "version": "3.8.2"
  }
 },
 "nbformat": 4,
 "nbformat_minor": 4
}
