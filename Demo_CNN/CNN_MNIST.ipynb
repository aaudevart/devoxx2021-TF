{
 "cells": [
  {
   "cell_type": "markdown",
   "metadata": {
    "id": "pnN8qCmBDh47"
   },
   "source": [
    "https://colab.research.google.com/github/aaudevart/devoxx2021-TF/blob/main/Demo_CNN/CNN_MNIST.ipynb"
   ]
  },
  {
   "cell_type": "markdown",
   "metadata": {
    "id": "DWuH0ZW2JXX4"
   },
   "source": [
    "# Démo CNN - Classification d'images MNIST avec *tf.keras*\n",
    "\n",
    "### Objectif :\n",
    "- Mise en place d'un CNN\n",
    "\n",
    "Lien vers la documentation de [TensorFlow](https://www.tensorflow.org/api_docs).\n"
   ]
  },
  {
   "cell_type": "markdown",
   "metadata": {
    "id": "qnvE4gHBJXX8"
   },
   "source": [
    "#◢  Import des librairies"
   ]
  },
  {
   "cell_type": "code",
   "execution_count": null,
   "metadata": {
    "id": "5arxEGTVJXYC"
   },
   "outputs": [],
   "source": [
    "import tensorflow as tf\n",
    "from tensorflow import keras\n",
    "from tensorflow.keras import layers\n",
    "import sys\n",
    "import numpy as np\n",
    "import pandas as pd\n",
    "import matplotlib as mpl\n",
    "import matplotlib.pyplot as plt"
   ]
  },
  {
   "cell_type": "markdown",
   "metadata": {
    "id": "h2muDbRUJXYM"
   },
   "source": [
    "#◢  Chargement du jeu de données MNIST\n"
   ]
  },
  {
   "cell_type": "code",
   "execution_count": null,
   "metadata": {
    "id": "EetAUOJPJXYN"
   },
   "outputs": [],
   "source": [
    "mnist = keras.datasets.mnist\n",
    "(X_train_full, y_train_full), (X_test, y_test) = mnist.load_data()\n",
    "\n",
    "X_train_full = X_train_full.reshape(-1, 28, 28, 1)\n",
    "X_test = X_test.reshape(-1, 28, 28, 1)\n",
    "\n",
    "X_valid, X_train = X_train_full[:5000], X_train_full[5000:]\n",
    "y_valid, y_train = y_train_full[:5000], y_train_full[5000:]"
   ]
  },
  {
   "cell_type": "markdown",
   "metadata": {
    "id": "h9W4nc7QJXYh"
   },
   "source": [
    "#◢  Pré-Processing\n",
    "Normalisation des images\n",
    "\n",
    "\n",
    "\n",
    "\n",
    "\n"
   ]
  },
  {
   "cell_type": "code",
   "execution_count": null,
   "metadata": {
    "id": "1R6KJirAJXYi"
   },
   "outputs": [],
   "source": [
    "def normalize_grayscale(image_data):\n",
    "    \"\"\"\n",
    "    Normalize the image data with Min-Max scaling to a range of [0.1, 0.9]\n",
    "    :param image_data: The image data to be normalized\n",
    "    :return: Normalized image data\n",
    "    \"\"\"\n",
    "    a = 0.1\n",
    "    b = 0.9\n",
    "    image_data_min = image_data.min()\n",
    "    image_data_max = image_data.max()\n",
    "    return a + ((image_data - image_data_min)*(b-a))/(image_data_max - image_data_min)\n",
    "\n",
    "train_features = normalize_grayscale(X_train)\n",
    "val_features = normalize_grayscale(X_valid)\n",
    "test_features = normalize_grayscale(X_test)\n"
   ]
  },
  {
   "cell_type": "markdown",
   "metadata": {
    "id": "vC2lvBnNJXYk"
   },
   "source": [
    "#◢  Construction d'un modèle "
   ]
  },
  {
   "cell_type": "code",
   "execution_count": null,
   "metadata": {
    "id": "eGG516sJJXYl"
   },
   "outputs": [],
   "source": [
    "model = keras.models.Sequential()\n",
    "model.add(layers.Conv2D(32, (3, 3), activation='relu', input_shape=(28, 28, 1)))\n",
    "model.add(layers.MaxPooling2D((2, 2)))\n",
    "model.add(layers.Conv2D(64, (3, 3), activation='relu'))\n",
    "model.add(layers.MaxPooling2D((2, 2)))\n",
    "model.add(layers.Conv2D(64, (3, 3), activation='relu'))\n",
    "model.add(layers.Flatten())\n",
    "model.add(layers.Dense(64, activation='relu'))\n",
    "model.add(layers.Dense(10, activation='softmax'))"
   ]
  },
  {
   "cell_type": "code",
   "execution_count": null,
   "metadata": {
    "id": "oHGst-pXJXYv"
   },
   "outputs": [],
   "source": [
    "model.summary()"
   ]
  },
  {
   "cell_type": "markdown",
   "metadata": {
    "id": "m7WSu1YtJXYx"
   },
   "source": [
    "#◢  Compilation du modèle\n",
    "\n",
    "Après avoir créé le modèle, nous devons appeler la méthode `compile()`afin de spécifier la fonction de cout (`loss` function) et l'`optimizer` à utiliser. "
   ]
  },
  {
   "cell_type": "code",
   "execution_count": null,
   "metadata": {
    "id": "xetpm-WFJXYx"
   },
   "outputs": [],
   "source": [
    "model.compile(optimizer='adam',\n",
    "              loss=tf.keras.losses.SparseCategoricalCrossentropy(from_logits=True),\n",
    "              metrics=['accuracy'])"
   ]
  },
  {
   "cell_type": "markdown",
   "metadata": {
    "id": "h_nJmnSiJXY0"
   },
   "source": [
    "#◢  Entrainement du modèle\n"
   ]
  },
  {
   "cell_type": "code",
   "execution_count": null,
   "metadata": {
    "id": "IJV1ctEqJXY0"
   },
   "outputs": [],
   "source": [
    "history = model.fit(train_features, y_train, epochs=5,\n",
    "                    validation_data=(val_features, y_valid))"
   ]
  },
  {
   "cell_type": "markdown",
   "metadata": {
    "id": "PQ5o3ptgJXY2"
   },
   "source": [
    "Regardons les valeurs de la fonction de cout et de l'accuracy sur les 2 jeux de données (train et validation)"
   ]
  },
  {
   "cell_type": "code",
   "execution_count": null,
   "metadata": {
    "id": "zGEselIGJXY3"
   },
   "outputs": [],
   "source": [
    "def plot_learning_curves(history):\n",
    "    pd.DataFrame(history.history).plot(figsize=(8, 5))\n",
    "    plt.grid(True)\n",
    "    plt.gca().set_ylim(0, 1)\n",
    "    plt.show()"
   ]
  },
  {
   "cell_type": "code",
   "execution_count": null,
   "metadata": {
    "id": "obsCVKkeJXY5"
   },
   "outputs": [],
   "source": [
    "plot_learning_curves(history)"
   ]
  },
  {
   "cell_type": "markdown",
   "metadata": {
    "id": "zhQCHGfVJXY9"
   },
   "source": [
    "#◢  Evaluation du modèle"
   ]
  },
  {
   "cell_type": "code",
   "execution_count": null,
   "metadata": {
    "id": "ym2wJr6kJXY-"
   },
   "outputs": [],
   "source": [
    "model.evaluate(test_features, y_test)"
   ]
  },
  {
   "cell_type": "markdown",
   "metadata": {
    "id": "oULxuai7JXY_"
   },
   "source": [
    "#◢  Prédiction"
   ]
  },
  {
   "cell_type": "code",
   "execution_count": null,
   "metadata": {
    "id": "L_9GWhVDJXZA"
   },
   "outputs": [],
   "source": [
    "y_proba = model.predict(test_features)\n",
    "y_pred = y_proba.argmax(axis=1)"
   ]
  },
  {
   "cell_type": "markdown",
   "metadata": {
    "id": "YC_JNEwCJXZH"
   },
   "source": [
    "#◢  Visualisation des prédictions \n",
    "\n",
    "Méthodes utilitaires pour afficher une image et un bar chart représentant la probabilité des prédictions pour chaque chiffre de 0 à 9 (les prédictions en bleu sont les prédictions correctes et en rouge celles incorrectes)"
   ]
  },
  {
   "cell_type": "code",
   "execution_count": null,
   "metadata": {
    "id": "PvsEAuAkJXZI"
   },
   "outputs": [],
   "source": [
    "def plot_prediction_image(predictions_array, true_label, img):\n",
    "\n",
    "    plt.imshow(img, cmap=plt.cm.binary)\n",
    "\n",
    "    predicted_label = np.argmax(predictions_array)\n",
    "    color = \"blue\" if predicted_label == true_label else \"red\"\n",
    "\n",
    "    plt.xlabel(\"Chiffre prédit {} {:2.0f}% ({})\".format(predicted_label,\n",
    "                                                        np.max(predictions_array) *100,\n",
    "                                                        true_label),\n",
    "                                                        color=color)\n",
    "    \n",
    "def plot_prediction_bar_chart(predictions_array, true_label):\n",
    "    thisplot = plt.bar(range(10), predictions_array, color=\"#777777\")\n",
    "    plt.ylim([0, 1])\n",
    "    plt.grid(False)\n",
    "    plt.xticks(range(10))\n",
    "    predicted_label = np.argmax(predictions_array)\n",
    "\n",
    "    thisplot[predicted_label].set_color('red')\n",
    "    thisplot[true_label].set_color('blue')"
   ]
  },
  {
   "cell_type": "markdown",
   "metadata": {
    "id": "kbGBBUCuJXZK"
   },
   "source": [
    "Affichage de l'image à prédire et de la probabilité des prédictions pour chaque chiffre de 0 à 9 pour la première image"
   ]
  },
  {
   "cell_type": "code",
   "execution_count": null,
   "metadata": {
    "id": "xBk5rB-TJXZL"
   },
   "outputs": [],
   "source": [
    "i = 1\n",
    "plt.figure(figsize=(6,3))\n",
    "plt.subplot(1,2,1)\n",
    "plot_prediction_image(y_proba[i], y_test[i], np.reshape(X_test[i], [28,28]))\n",
    "plt.subplot(1,2,2)\n",
    "plot_prediction_bar_chart(y_proba[i], y_test[i])\n",
    "plt.show()"
   ]
  },
  {
   "cell_type": "code",
   "execution_count": null,
   "metadata": {
    "id": "S7PEntvF1G-D"
   },
   "outputs": [],
   "source": [
    "y_proba[i]"
   ]
  },
  {
   "cell_type": "markdown",
   "metadata": {
    "id": "09DOSkkyJXZM"
   },
   "source": [
    "## Affichons les 20 premiers chiffres et visualisons les prédictions\n"
   ]
  },
  {
   "cell_type": "code",
   "execution_count": null,
   "metadata": {
    "id": "xill_-RbY5fP"
   },
   "outputs": [],
   "source": [
    "num_rows = 8\n",
    "num_cols = 5\n",
    "plt.figure(figsize=(2*2*num_cols, 2*num_rows))\n",
    "\n",
    "for row in range(num_rows):\n",
    "    for col in range(num_cols):\n",
    "        index = num_cols * row + col\n",
    "        plt.subplot(num_rows, 2*num_cols, 2*index+1)\n",
    "        plot_prediction_image(y_proba[index], y_test[index], np.reshape(X_test[i], [28,28]))\n",
    "        plt.subplot(num_rows, 2*num_cols, 2*index+2)\n",
    "        plot_prediction_bar_chart(y_proba[index], y_test[index])\n",
    "plt.tight_layout()\n",
    "plt.show()\n",
    "\n"
   ]
  },
  {
   "cell_type": "markdown",
   "metadata": {
    "id": "diJfR5QjJXZP"
   },
   "source": [
    "## Focus sur les images mal prédites"
   ]
  },
  {
   "cell_type": "code",
   "execution_count": null,
   "metadata": {
    "id": "h5bhdvkBJXZQ"
   },
   "outputs": [],
   "source": [
    "y_proba_false = y_proba[y_pred != y_test]\n",
    "y_test_false = y_test[y_pred != y_test]\n",
    "X_test_false = X_test[y_pred != y_test]"
   ]
  },
  {
   "cell_type": "code",
   "execution_count": null,
   "metadata": {
    "id": "_tr5-YTIJXZS"
   },
   "outputs": [],
   "source": [
    "num_rows = 8\n",
    "num_cols = 5\n",
    "plt.figure(figsize=(2*2*num_cols, 2*num_rows))\n",
    "for row in range(num_rows):\n",
    "    for col in range(num_cols):\n",
    "        index = num_cols * row + col\n",
    "        plt.subplot(num_rows, 2*num_cols, 2*index+1)\n",
    "        plot_prediction_image(y_proba_false[index], y_test_false[index], np.reshape(X_test[index], [28,28]))\n",
    "        plt.subplot(num_rows, 2*num_cols, 2*index+2)\n",
    "        plot_prediction_bar_chart(y_proba_false[index], y_test_false[index])\n",
    "plt.tight_layout()\n",
    "plt.show()"
   ]
  }
 ],
 "metadata": {
  "accelerator": "GPU",
  "colab": {
   "collapsed_sections": [],
   "name": "CNN_MNIST.ipynb",
   "provenance": [],
   "toc_visible": true
  },
  "kernelspec": {
   "display_name": "Python 3",
   "language": "python",
   "name": "python3"
  },
  "language_info": {
   "codemirror_mode": {
    "name": "ipython",
    "version": 3
   },
   "file_extension": ".py",
   "mimetype": "text/x-python",
   "name": "python",
   "nbconvert_exporter": "python",
   "pygments_lexer": "ipython3",
   "version": "3.8.2"
  }
 },
 "nbformat": 4,
 "nbformat_minor": 4
}
